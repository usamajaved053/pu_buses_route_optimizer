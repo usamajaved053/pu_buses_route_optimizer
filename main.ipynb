{
 "cells": [
  {
   "cell_type": "markdown",
   "metadata": {},
   "source": [
    "### Libraries"
   ]
  },
  {
   "cell_type": "code",
   "execution_count": null,
   "metadata": {},
   "outputs": [],
   "source": [
    "from selenium import webdriver\n",
    "from bs4 import BeautifulSoup as bs\n",
    "import csv"
   ]
  },
  {
   "cell_type": "markdown",
   "metadata": {},
   "source": [
    "### Read a file"
   ]
  },
  {
   "cell_type": "code",
   "execution_count": null,
   "metadata": {},
   "outputs": [],
   "source": [
    "def file(f):\n",
    "    with open(f) as csv_file:\n",
    "        csv_reader = csv.reader(csv_file, delimiter=',')\n",
    "        data = []\n",
    "        for row in csv_reader:\n",
    "            data.append(row)\n",
    "    return data"
   ]
  },
  {
   "cell_type": "markdown",
   "metadata": {},
   "source": [
    "### Check number is float or not"
   ]
  },
  {
   "cell_type": "code",
   "execution_count": null,
   "metadata": {},
   "outputs": [],
   "source": [
    "def isfloat(num):\n",
    "    try:\n",
    "        float(num)\n",
    "        return True\n",
    "    except ValueError:\n",
    "        return False"
   ]
  },
  {
   "cell_type": "markdown",
   "metadata": {},
   "source": [
    "### Write row to file"
   ]
  },
  {
   "cell_type": "code",
   "execution_count": null,
   "metadata": {},
   "outputs": [],
   "source": [
    "def file_write(row):\n",
    "    with open('data.csv', \"a+\", newline='') as file:\n",
    "                writer = csv.writer(file, delimiter=',')\n",
    "                writer.writerow(row)"
   ]
  },
  {
   "cell_type": "markdown",
   "metadata": {},
   "source": [
    "### Scrape data from google maps"
   ]
  },
  {
   "cell_type": "code",
   "execution_count": null,
   "metadata": {},
   "outputs": [],
   "source": [
    "driver = webdriver.Chrome('./chromedriver')\n",
    "coord = file('./coordinates.csv')\n",
    "\n",
    "for i in range(0, len(coord)):\n",
    "    for j in range(i + 1, len(coord)):\n",
    "        try:\n",
    "            url = r\"https://www.google.com/maps/dir/{},{}/{},{}/@31.4905329,74.2508025,12z\".format(float(coord[i][1]),float(coord[i][2]),float(coord[j][1]),float(coord[j][2]))\n",
    "            driver.get(url=url)\n",
    "            soup = bs(driver.page_source, \"html.parser\")\n",
    "            distance = soup.find(lambda tag:tag.name==\"span\" and \"min\" in tag.text).text\n",
    "            list = soup.find(\"div\", {\"id\": \"section-directions-trip-0\"}).find(lambda tag:tag.name==\"div\" and \"km\" in tag.text).text.split()\n",
    "            for l in list:\n",
    "                if isfloat(l) and str(l) not in distance:\n",
    "                    time = l\n",
    "\n",
    "            file_write([coord[i][0],coord[j][0], distance, time]) \n",
    "        except:\n",
    "            pass\n",
    "\n",
    "driver.close()"
   ]
  }
 ],
 "metadata": {
  "language_info": {
   "name": "python"
  },
  "orig_nbformat": 4
 },
 "nbformat": 4,
 "nbformat_minor": 2
}
